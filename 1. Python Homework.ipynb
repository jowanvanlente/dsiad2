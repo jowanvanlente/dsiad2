{
 "cells": [
  {
   "cell_type": "markdown",
   "metadata": {},
   "source": [
    "# Python in an Hour\n",
    "\n",
    "This notebook will learn you Python programming in just one hour. It will try to cover the most important basics needed for more advanced Python used in Data Science. Be sure to read the instructions carefully at every step and the rest should be self-explanatory. Do not hesitate to ask for help, however, if anything seems unclear. Enjoy!"
   ]
  },
  {
   "cell_type": "markdown",
   "metadata": {},
   "source": [
    "## 1. First steps\n",
    "\n",
    "This is an interactive notebook. That means you are able to execute Python code directly in this file. To execute a \"cell\" (these grey blocks with code), press `Ctrl`+`Enter` after selecting a cell, or hit `Run` above. \n",
    "\n",
    "Let's try it! Hit `Ctrl`+`Enter` after selecting the cell below."
   ]
  },
  {
   "cell_type": "code",
   "execution_count": null,
   "metadata": {},
   "outputs": [],
   "source": [
    "print(\"Hello, world!\")"
   ]
  },
  {
   "cell_type": "markdown",
   "metadata": {},
   "source": [
    "This means Python tells the computer to `print` everything within quotes. This results in the quoted text being displayed just below the grey cell block, i.e. the text is 'printed' to the screen. Since this is an interactive notebook, let's get coding as soon as possible!"
   ]
  },
  {
   "cell_type": "markdown",
   "metadata": {},
   "source": [
    "### 1.1 Python errors\n",
    "\n",
    "Before we write our first lines of code it is important to know how to recognise when something goes wrong. Learning to code is irrevocably intertwined with recognising, fixing and handling errors. Luckily Python does a very good job at telling you what is wrong so you will know where to start looking. "
   ]
  },
  {
   "cell_type": "markdown",
   "metadata": {},
   "source": [
    "#### Exercise 1.1.1\n",
    "Try to run the code below."
   ]
  },
  {
   "cell_type": "code",
   "execution_count": null,
   "metadata": {},
   "outputs": [],
   "source": [
    "print(\"This is Python\""
   ]
  },
  {
   "cell_type": "markdown",
   "metadata": {},
   "source": [
    "**Notice** that the notebook shows `SyntaxError: unexpected EOF while parsing` instead of printing the provided message. The reason for this error as we call it is the code is missing a closing bracket. "
   ]
  },
  {
   "cell_type": "markdown",
   "metadata": {},
   "source": [
    "#### Exercise 1.1.2\n",
    "Add in the bracket in the copied code below to complete the statement and check if it runs."
   ]
  },
  {
   "cell_type": "code",
   "execution_count": null,
   "metadata": {},
   "outputs": [],
   "source": [
    "print(\"This is Python\""
   ]
  },
  {
   "cell_type": "markdown",
   "metadata": {},
   "source": [
    "Not only a closing bracket can lead to errors and there are many reasons for Python throwing an error. Luckily Python always tells you _where_ the error is happening and _why_. If you run into problems during the execution of this notebook, do not hesitate to ask for help."
   ]
  },
  {
   "cell_type": "markdown",
   "metadata": {},
   "source": [
    "### 1.2 About Python functions\n",
    "\n",
    "As you can see, Python does nothing more than providing the computer with a set of instructions on what and how to execute. In this case, `print` is a _function_ which applies some functionality to the sentence between the parentheses. \n",
    "\n",
    "Apart from `print` Python has over 60 built in other functions, and there are more than _100,000_ python packages which add even more functionality by providing their own functions. To give an example, there is a Python package which allows you to load images, and a package that can do complex mathmatical operations. There are even packages that build complete neural networks in just a few lines of code!"
   ]
  },
  {
   "cell_type": "markdown",
   "metadata": {},
   "source": [
    "### 1.3 Python variables\n",
    "Apart from functions, Python has some important basic functionality. Before we told Python to directly print a sentence to the notebook, but we can also _assign variables_. This means that you can store stuff in hypothetical boxes which Python remembers for you. See it as a very large warehouse (your computer memory) with rows and rows of shelves where you can temporarily store things. When you place the number 20 (the item) in a box (b) Python puts it on a shelf to be used for later and makes sure it will not be forgotten.\n",
    "\n",
    "Take a look at the example below."
   ]
  },
  {
   "cell_type": "code",
   "execution_count": null,
   "metadata": {},
   "outputs": [],
   "source": [
    "a = 10\n",
    "b = 20\n",
    "\n",
    "c = a + b\n",
    "\n",
    "print(c) "
   ]
  },
  {
   "cell_type": "markdown",
   "metadata": {},
   "source": [
    "**Notice** that we now print numbers in stead of sentences, which shows that Python can handle a variety of _variable types_.  Important for now are:\n",
    "* Rounded numbers, such as `10`, `-5`, `422`. These are called `int`, short for 'integer'. \n",
    "* Decimal numbers, such as `2.1`, `3.14`, `-98748.0`. These are called `float`. \n",
    "* Words and sentences, displayed between (single or double, both are allowed) quotes, called `string`. We have already seen `\"This is Python\"` and `\"Hello, world!\"`, but can be anything as long at it is between quotes. Confusing but important to note: numbers can also be in a `string` and will be treated as such. `'16'` (notice the quotes) will be recognised by Python as a `string` and mathmatical operations will not work. Try it out below."
   ]
  },
  {
   "cell_type": "code",
   "execution_count": null,
   "metadata": {},
   "outputs": [],
   "source": [
    "'16' / 2"
   ]
  },
  {
   "cell_type": "markdown",
   "metadata": {},
   "source": [
    "### 1.4 Naming conventions\n",
    "\n",
    "**Notice** how we originally named these variables: `a`, `b` and `c`. Reading this, the programmer possibly knows what the numbers stand for, but how would a colleague? This is why there are _naming conventions_. In pratice this translates to the most important to know for now:\n",
    "- not too general (e.g. `a`)\n",
    "- not too wordy (e.g. `the_hyperlink_to_the_page_for_identification_of_the_website`)\n",
    "- when multiple words are needed, an underscore should separate them\n",
    "\n",
    "When using this notebook do try to use these naming conventions! It is always better to learn something right right away than to change bad behaviour later on."
   ]
  },
  {
   "cell_type": "markdown",
   "metadata": {},
   "source": [
    "### 1.5 Comments in Python\n",
    "\n",
    "The code above may speak for itself, but sometimes this is not the case. For these kind of situations we write _comments_. Comments are skipped by the computer when executing code. For this reason, we will use comments to indicate where to write your code in the notebook. Comments are defined by a leading `#`. See below for an example comment. "
   ]
  },
  {
   "cell_type": "code",
   "execution_count": null,
   "metadata": {},
   "outputs": [],
   "source": [
    "# print(\"This is a comment\")\n",
    "print(\"This is not\")"
   ]
  },
  {
   "cell_type": "markdown",
   "metadata": {},
   "source": [
    "### 1.5 First practice\n",
    "Below you will find a few exercises to practice with Python variables. \n",
    "\n",
    "#### Exercise 1.5.1 \n",
    "Complete the code below in such a way that the tortillas are divided equally and the error is fixed. Write your code after `portion =` and replace the dots.\n",
    "\n",
    "Hint: you can use Python as a calculator, including but not limited to `+`, `-`, `/` and `*`-signs."
   ]
  },
  {
   "cell_type": "code",
   "execution_count": null,
   "metadata": {},
   "outputs": [],
   "source": [
    "people = 3\n",
    "tortillas = 15\n",
    "\n",
    "# write your code on the line below\n",
    "portion = ..\n",
    "\n",
    "print('Everyone can eat {} tortillas.'.format(portion))"
   ]
  },
  {
   "cell_type": "markdown",
   "metadata": {},
   "source": [
    "**Check** Is the code still correct if we change the number of people, or the number of tortillas? Never forget to test these cases or you might end up with a bug during production!"
   ]
  },
  {
   "cell_type": "markdown",
   "metadata": {},
   "source": [
    "#### Exercise 1.5.2 \n",
    "Complete the code below in such a way that it prints the correct amount. Write your code after `price_total` and replace the dots."
   ]
  },
  {
   "cell_type": "code",
   "execution_count": null,
   "metadata": {},
   "outputs": [],
   "source": [
    "apple_price = 0.43\n",
    "apples = 12\n",
    "\n",
    "# fix the statement below\n",
    "price_total = ..\n",
    "\n",
    "print('You owe {} $'.format(price_total))"
   ]
  },
  {
   "cell_type": "markdown",
   "metadata": {},
   "source": [
    "#### Exercise 1.5.3 \n",
    "Now write a program that calculates the temperature in Celcius, given a temperature in Fahrenheit. \n",
    "\n",
    "The official formula for this conversion reads:  \n",
    "\n",
    "   (temperature in F − 32) × 5/9 = temperature in °C\n",
    "\n",
    "Replace the `0` with the correct formula in such a way that it can be tested by putting in different values for `fahrenheit`."
   ]
  },
  {
   "cell_type": "code",
   "execution_count": null,
   "metadata": {},
   "outputs": [],
   "source": [
    "fahrenheit = 77\n",
    "\n",
    "# fix the statement below\n",
    "celcius = 0\n",
    "\n",
    "print('The weather forecast today reads {} degrees C'.format(celcius))"
   ]
  },
  {
   "cell_type": "markdown",
   "metadata": {},
   "source": [
    "## 2.0 Lists\n",
    "\n",
    "We have seen `string`, `int` and `float`, but only ever on their own. But what if you wanted to store more than one variable? This is where lists come in. Lists are a very convienent type of Python collection that allows you to store multiple variables. Below we use a `list` to store multiple groceries. Execute the cell to create the `list`. **Notice** the brackets which tell Python this is a list. "
   ]
  },
  {
   "cell_type": "code",
   "execution_count": null,
   "metadata": {},
   "outputs": [],
   "source": [
    "groceries = ['apples', 'soap', 'milk', 'cat food']"
   ]
  },
  {
   "cell_type": "markdown",
   "metadata": {},
   "source": [
    "We can access these variables throug _indexing_. One imporant thing to note here is that Python indexing **starts at 0**. This means that when we want to see 'apples', we use 0 in stead of 1. Execute the code below to see it in practice. "
   ]
  },
  {
   "cell_type": "code",
   "execution_count": null,
   "metadata": {},
   "outputs": [],
   "source": [
    "groceries[0]"
   ]
  },
  {
   "cell_type": "markdown",
   "metadata": {},
   "source": [
    "#### Exercise 1.6.1\n",
    "In the cell below, try to access all four words in `groceries`. What happens if you try to access a number out of bounds (like 5)?"
   ]
  },
  {
   "cell_type": "code",
   "execution_count": null,
   "metadata": {},
   "outputs": [],
   "source": [
    "# write your code here"
   ]
  },
  {
   "cell_type": "markdown",
   "metadata": {},
   "source": [
    "### 2.1 List functionality\n",
    "\n",
    "Lists have a few handy functionalities, including but not limited to:\n",
    "- adding something to a list\n",
    "- removing something from a list\n",
    "- see if something is in a list\n",
    "\n",
    "See below for a code example for each."
   ]
  },
  {
   "cell_type": "code",
   "execution_count": null,
   "metadata": {},
   "outputs": [],
   "source": [
    "# adding something\n",
    "groceries.append('cheese') \n",
    "groceries"
   ]
  },
  {
   "cell_type": "code",
   "execution_count": null,
   "metadata": {},
   "outputs": [],
   "source": [
    "# removing something\n",
    "del groceries[1]\n",
    "groceries"
   ]
  },
  {
   "cell_type": "code",
   "execution_count": null,
   "metadata": {},
   "outputs": [],
   "source": [
    "# see if something is in a list\n",
    "'milk' in groceries"
   ]
  },
  {
   "cell_type": "markdown",
   "metadata": {},
   "source": [
    "**Notice** that Python shows us the `boolean` value `True`, the one variable type we have not seen in practice yet. Python answers most of your questions with either `True` or `False`. Try to get a `False` answer in the code below."
   ]
  },
  {
   "cell_type": "code",
   "execution_count": null,
   "metadata": {},
   "outputs": [],
   "source": [
    "# see if something is not in a list\n",
    ".. in groceries"
   ]
  },
  {
   "cell_type": "markdown",
   "metadata": {},
   "source": [
    "### 2.2 List length\n",
    "\n",
    "Another very convenient Python functionality that we can also apply to lists is finding how many elements the list holds. Execute the code below."
   ]
  },
  {
   "cell_type": "code",
   "execution_count": null,
   "metadata": {},
   "outputs": [],
   "source": [
    "print('groceries: ', groceries)\n",
    "\n",
    "print('this is the length of the groceries list: {}'.format(len(groceries)))\n",
    "# write your code here"
   ]
  },
  {
   "cell_type": "markdown",
   "metadata": {},
   "source": [
    "#### Exercise 2.2.1 \n",
    "Now complete the code below in such a way that it deletes the **first** element from the list."
   ]
  },
  {
   "cell_type": "code",
   "execution_count": null,
   "metadata": {},
   "outputs": [],
   "source": [
    "print('groceries before: ', groceries)\n",
    "\n",
    "# write your code here\n",
    "\n",
    "print('groceries after: ', groceries)"
   ]
  },
  {
   "cell_type": "markdown",
   "metadata": {},
   "source": [
    "#### Exercise 2.2.2\n",
    "Get the length of the list and compare it with the length above. Did the deletion work?"
   ]
  },
  {
   "cell_type": "code",
   "execution_count": null,
   "metadata": {},
   "outputs": [],
   "source": [
    "# write your code here"
   ]
  },
  {
   "cell_type": "markdown",
   "metadata": {},
   "source": [
    "## 3. Statements\n",
    "\n",
    "Variables allow for the storage of information, but do not incorporate any logic. For this Python has a few statements, called `if`-`else` statements. This is useful when you would like to excute a certain work order when something is the case, and another when something is not. "
   ]
  },
  {
   "cell_type": "markdown",
   "metadata": {},
   "source": [
    "### 3.1 Boolean values\n",
    "\n",
    "In order to understand how statements work, we first have to dive a bit deeper into `boolean` values. As shown in the sections about `list`s, Python essentially answers questions you ask. For example, you could ask the question _is this value in a list?_  or _is 3 smaller than 5?_. Python then tells you whether this is `True` or `False`. Execute the Python code equivalent of this below."
   ]
  },
  {
   "cell_type": "code",
   "execution_count": null,
   "metadata": {},
   "outputs": [],
   "source": [
    "3 < 5"
   ]
  },
  {
   "cell_type": "markdown",
   "metadata": {},
   "source": [
    "### 3.2 `if`-`else`\n",
    "\n",
    "Notice how in the example above Python answers the question, but there is no consequence. In pratice, you usually want something to happen when an answer is given. For example, we could write a program that outputs if you should wear a coat based on the outside temperature. Let us assume that this is preferable below 18 degrees Celcius and that we would like to print a message accordingly. \n",
    "\n",
    "```\n",
    "if(temperature < 18):\n",
    "    print('A coat is recommended.')\n",
    "else:\n",
    "    print('Enjoy the weather!')\n",
    "```\n",
    "\n",
    "Here we ask Python _is the temperature below 18 degrees?_ and tell it _if it is so, print the following message_. We also tell it _if it is not below 18 degrees_, i.e. `else`, _do this_.\n",
    "\n",
    "Let's take another example. On a company website, a signup field could check whether a birthdate is valid by providing an error message when a birthdate is not between 1900 and 2020. See below how that would look in Python code. Try out different birth years to see what it does."
   ]
  },
  {
   "cell_type": "code",
   "execution_count": null,
   "metadata": {},
   "outputs": [],
   "source": [
    "birthyear = 0\n",
    "if(1900 < birthyear < 2020):\n",
    "    print('Success')\n",
    "else:\n",
    "    print('Error. Incorrect birthyear.')"
   ]
  },
  {
   "cell_type": "markdown",
   "metadata": {},
   "source": [
    "### 3.3 Indentation\n",
    "\n",
    "**Notice** that both `print` statements are _indented_, meaning they have a leading extra tab compared to the code line above. The reason for this is that Python uses these tabs to infer what code goes where. For example in the code above, Python knows the 'success' `print` statement belongs to the `if` statement because it is preceded by a tab. Everything with that indentation, as long as it is not interrupted, falls under that `if` statement. \n",
    "\n",
    "The example below shows how this works in practice. Take note of how `if` and `else` operate on the same level of indentation, and therefore belong to different code blocks. Execute the code below to see what it does. "
   ]
  },
  {
   "cell_type": "code",
   "execution_count": null,
   "metadata": {},
   "outputs": [],
   "source": [
    "number = 3\n",
    "if number < 5:\n",
    "    print('Hey,')\n",
    "    print('The number is smaller than 5')\n",
    "else: \n",
    "    print('Hi,')\n",
    "print('The number is larger than or equal to 5.')"
   ]
  },
  {
   "cell_type": "markdown",
   "metadata": {},
   "source": [
    "#### Exercise 3.3.1 \n",
    "As you may notice the statement `The number is larger than or equal to 5.` is wrongly executed. Fix the code below (copied from above) in such a way that it prints the correct text when putting in numbers smaller than 5. Also try to test your code with numbers larger than 5; does it behave as expected?"
   ]
  },
  {
   "cell_type": "code",
   "execution_count": null,
   "metadata": {},
   "outputs": [],
   "source": [
    "number = 3\n",
    "if number < 5:\n",
    "    print('Hey,')\n",
    "    print('The number {} is smaller than 5'.format(number))\n",
    "else: \n",
    "    print('Hi,')\n",
    "print('The number {} is larger than or equal to 5.'.format(number))"
   ]
  },
  {
   "cell_type": "markdown",
   "metadata": {},
   "source": [
    "### 3.4 More statements\n",
    "\n",
    "With statements you can check not only if something is smaller `<` as we have already seen, but also:\n",
    "- if something is bigger `>` \n",
    "- if something equals `==` something (notice the double usage)\n",
    "- if something does not `!=` equal something (use ! for 'not')"
   ]
  },
  {
   "cell_type": "markdown",
   "metadata": {},
   "source": [
    "#### Exercise 3.4.1\n",
    "Let's put this knowledge into practice. Fill in the dots below in such a way that \n",
    "- it checks if the number _is not_ 10\n",
    "- it prints 'This is 10' when it is\n",
    "\n",
    "Combine the new knowledge about `statements` and `indentation`. Test your code to see if it works."
   ]
  },
  {
   "cell_type": "code",
   "execution_count": null,
   "metadata": {},
   "outputs": [],
   "source": [
    "number = ..\n",
    "if number .. 10:\n",
    "    print('This is not 10')\n",
    ".."
   ]
  },
  {
   "cell_type": "markdown",
   "metadata": {},
   "source": [
    "## 4. Functions\n",
    "\n",
    "Now that we played around a bit with variables and statements, it is time for even more important functionality: functions. As we have seen before, Python provides a lot of built-in functions and there are even more so-called packages that provide even more functions. However, it may occur that you wish to execute a specific piece of your own code multiple times, that is when you write a _function_.\n",
    "\n",
    "Take the example below, where we calculate the (Human) Body Mass Index (BMI) of a Giraffe. "
   ]
  },
  {
   "cell_type": "code",
   "execution_count": null,
   "metadata": {},
   "outputs": [],
   "source": [
    "animal = \"giraffe\"\n",
    "height = 5.0\n",
    "weight = 810\n",
    "\n",
    "# the 'round' function rounds the number to a whole number e.g. 3.14 to 3\n",
    "bmi = round(weight / (height * height))\n",
    "\n",
    "print(\"The average {} has a BMI of {}.\".format(animal, bmi))"
   ]
  },
  {
   "cell_type": "markdown",
   "metadata": {},
   "source": [
    "This fits the purpose, for now, but what if we wanted to calculate this for not only a giraffe, but for a Lion, a Hippo and an Eagle as well? This is where the function comes in. It allows us to rerun code by making use of a blueprint of code, which can take in and put out data when it is called. We have rewritten the Giraffe code to a function below. Execute the function to let Python know that this is the blueprint for the function `calculate_bmi`."
   ]
  },
  {
   "cell_type": "code",
   "execution_count": null,
   "metadata": {},
   "outputs": [],
   "source": [
    "def calculate_bmi(animal, height, weight):\n",
    "    bmi = round(weight / (height * height))\n",
    "    print(\"The average {} has a BMI of {}.\".format(animal, bmi))"
   ]
  },
  {
   "cell_type": "markdown",
   "metadata": {},
   "source": [
    "**Notice** the change of _indentation_ in the code above. `calculate_bmi` is indented in such a way that it is not part of the function, as we intend. \n",
    "\n",
    "Also take note of the way we define a `function`. It follows the following format:\n",
    "\n",
    "```\n",
    "def name_of_your_function(input_arg_1, input_arg2):\n",
    "    code\n",
    "    some more code\n",
    "```\n",
    "\n",
    "First write `def` (for 'define'), then the name of your function. Between brackets the _input arguments_ follow. These are stuff you want your function to use within. In the example above we want to be able to customize the name, height and weight of an animal, therefore we add these as arguments. Arguments can take on any name, but try to keep to the naming conventions. Do not forget the trailing `:` which indicates everything _indented_ hereafter is part of the function. \n",
    "\n",
    "With this knowledge, now all we have to do is call the function with new data. Execute the cell below."
   ]
  },
  {
   "cell_type": "code",
   "execution_count": null,
   "metadata": {
    "scrolled": true
   },
   "outputs": [],
   "source": [
    "calculate_bmi(\"giraffe\", 5.0, 810)"
   ]
  },
  {
   "cell_type": "markdown",
   "metadata": {},
   "source": [
    "#### Exercise 4.0.1 \n",
    " Run the `calculate_bmi` function with the following data. Take a good look at how the function is defined to see in what order and how many arguments the function takes in. \n",
    "- 1.90 m, 85 kg for a Lion\n",
    "- 1.5 m, 1600 kg for a Hippopotamus\n",
    "- 1.0 m, 6 kg for an Eagle"
   ]
  },
  {
   "cell_type": "code",
   "execution_count": null,
   "metadata": {},
   "outputs": [],
   "source": [
    "# write your code here"
   ]
  },
  {
   "cell_type": "markdown",
   "metadata": {},
   "source": [
    "#### Exercise 4.0.2\n",
    "Write a function that `print`s 'yes' if the number given is a negative number, 'no' if it is not. Hint: take a look at how we checked statements in `3.4.1` and make sure the indentation is done correctly like in `calculate_bmi`. \n",
    "\n",
    "Execute the cell below to test it. What happens?"
   ]
  },
  {
   "cell_type": "code",
   "execution_count": null,
   "metadata": {},
   "outputs": [],
   "source": [
    "def is_negative(number):\n",
    "    \n",
    "    # write your code below"
   ]
  },
  {
   "cell_type": "markdown",
   "metadata": {},
   "source": [
    "Two things could happen:\n",
    "1. Python throws an error\n",
    "2. Nothing happens\n",
    "\n",
    "In the first (most probable) case, notice how Python can throw an error even before the function is actually executed. The reason for this is that Python is actually pretty smart, and proofreads your code for you so that when you call the function the code is at least _syntactically_ correct. This does not mean that it is _logically_ correct though, as we saw with the example in exercise 3.3.1. \n",
    "\n",
    "As for the second, do not forget to _call_ the function like we did in exercise 4.0.1, otherwise it will not run. Remember a function acts as a blueprint, and therefore needs an _explicit call to action_ before it is used. Also do not forget about indentation!"
   ]
  },
  {
   "cell_type": "markdown",
   "metadata": {},
   "source": [
    "#### Exercise 4.0.3 \n",
    "Call your function with various numbers to see if it behaves as expected."
   ]
  },
  {
   "cell_type": "code",
   "execution_count": null,
   "metadata": {},
   "outputs": [],
   "source": [
    "# write your code here"
   ]
  },
  {
   "cell_type": "markdown",
   "metadata": {},
   "source": [
    "## 5.0 Pandas\n",
    "Not the animal, but the library! Remember in the beginning we briefly spoke of Python packages and being 10,000s of them, this is one very important one for data scientists. Some people call it libraries, others call it packages, but in the end it means the same thing: a collection of very convenient functions you can call that provide you with additional functionality. \n",
    "\n",
    "Pandas is a Data Analysis Library, meaning it allows for easy handling of data and data analysis. It does _not_ include any algorithms (there are other libraries for that), but does allow for data insights.\n",
    "\n",
    "### 5.1 Usage\n",
    "Normally these libraries have to be installed on your system or machine before being able to use them. However, this notebook ensures that Pandas is already installed, so not to worry. In order to use a library in your code, you have to `import` it first. See below for an example."
   ]
  },
  {
   "cell_type": "code",
   "execution_count": null,
   "metadata": {},
   "outputs": [],
   "source": [
    "import pandas as pd"
   ]
  },
  {
   "cell_type": "markdown",
   "metadata": {},
   "source": [
    "Execute the code. What happens? Python can provide you with two reactions: either it lets you know the library is not installed, or it provides no feedback. In this case no feedback is good feedback, so we are good to go!\n",
    "\n",
    "**Notice** how we write `as pd`; this is purely an abbreviation so that we do not have to write `pandas` fully all the time, but save some time using the shortened version. Programmers sure love efficiency.\n",
    "\n",
    "Let's use our first function. Execute the code below to see what it does."
   ]
  },
  {
   "cell_type": "code",
   "execution_count": null,
   "metadata": {},
   "outputs": [],
   "source": [
    "# path to the csv (comma separated values) file that stores our data\n",
    "data_path = 'https://raw.githubusercontent.com/mwaskom/seaborn-data/master/titanic.csv'\n",
    "data = pd.read_csv(data_path)"
   ]
  },
  {
   "cell_type": "markdown",
   "metadata": {},
   "source": [
    "We do two things here: first we set the correct path to our data file, then we read the csv with the function `read_csv`. Important to note is the prefix `pd` separated with a `.`. This tells Python to use the function from the Pandas library, which we aliased with `pd` a code block before. We then pass the data path to the function and voila, Pandas converted the csv to its data format `DataFrame`. This is a Pandas table-like format, as we will see in a moment.\n",
    "\n",
    "Okay so, we loaded the data, but how does it look? Pandas has a lot more functionality that will come in handy answering these questions. In the sections below we will outline the most important ones. It is not important to know _how_ these functions all work on the inside for now, just note that the programmers over at Pandas HQ saved us a lot of work."
   ]
  },
  {
   "cell_type": "markdown",
   "metadata": {},
   "source": [
    "### 5.2 Exploring data\n",
    "\n",
    "Now that we have loaded the data and stored it in a variable `data`, we should see how it looks like. This can be done by executing various functions on our DataFrame. Applying Pandas functionality to the `DataFrame` is done by calling the variable name of the `DataFrame`, a dot (Python-equivalent of 'apply whatever comes next to what I wrote first'), and the function to be applied. Note the parentheses should not be forgotten, since it is a function! Execute the code below."
   ]
  },
  {
   "cell_type": "code",
   "execution_count": null,
   "metadata": {},
   "outputs": [],
   "source": [
    "data.head()"
   ]
  },
  {
   "cell_type": "markdown",
   "metadata": {},
   "source": [
    "Here, we indeed see a table with rows and columns. We loaded the Titanic dataset, a dataset that describes the passengers on the passenger list of the tragic 1912 Titanic voyage. `data.head()` allows us to only see the `head`, i.e. first few records, of the dataset to give us a quick view without showing the whole set in this window.\n",
    "\n",
    "Let's explore the data a bit. We can, for example, list from where the passengers embarked, and how many data points we have in total. As with `list`s, we can get the length of a Pandas `DataFrame` by calling the following:"
   ]
  },
  {
   "cell_type": "code",
   "execution_count": null,
   "metadata": {},
   "outputs": [],
   "source": [
    "len(data)"
   ]
  },
  {
   "cell_type": "markdown",
   "metadata": {},
   "source": [
    "This shows us the DataFrame contains 891 rows of data entries, excluding the header row (with column names). Next, we find the different type of unique embarkment towns in the dataset. Execute the code below."
   ]
  },
  {
   "cell_type": "code",
   "execution_count": null,
   "metadata": {},
   "outputs": [],
   "source": [
    "data['embark_town'].unique()"
   ]
  },
  {
   "cell_type": "markdown",
   "metadata": {},
   "source": [
    "Makes sense right? We select the column we want unique values of by calling `data['name_of_column']`, then apply the `function` `unique()` on this column. Do not forget to write column names as `string`s, otherwise Python will throw an error. \n",
    "\n",
    "**Notice** two things here. First, we see the Output reads `array`, this is just another word for `list`, a type that we know! Second, in the `list` we see `nan`. As you may also notice is that `nan` is written without quotes. This is a special variable type equalling 'Not A Number', and can be interpreted as a _missing value_. We will see these more often.\n",
    "\n",
    "#### Exercise 5.2.1 \n",
    "Now try to show all unique values in the column `age`. Write your code below."
   ]
  },
  {
   "cell_type": "code",
   "execution_count": null,
   "metadata": {},
   "outputs": [],
   "source": [
    "# write your code here"
   ]
  },
  {
   "cell_type": "markdown",
   "metadata": {},
   "source": [
    "Okay that is less informative than the town of embarkment. Let's in stead of showing unique values, group them into different age groups to see the distribution.\n",
    "\n",
    "Perfect for grouping are _histograms_. These are bar charts that group data into bins (the bars) to give a quick overview of your data distribution. The `pandas` function for this is `hist()`. Just like we saw with `head()` and `unique()`, we can call the function `hist()` on our data. \n",
    "\n",
    "#### Exercise 5.2.2\n",
    "Create a histogram by applying the function `hist()` to `data` in the cell below. Specify which column by using `hist('column_name')`, but then applied to `age`."
   ]
  },
  {
   "cell_type": "code",
   "execution_count": null,
   "metadata": {},
   "outputs": [],
   "source": [
    "# write your code here"
   ]
  },
  {
   "cell_type": "markdown",
   "metadata": {},
   "source": [
    "Much clearer right? The passengers' ages are now neatly represented in bins of 10 years, with on the y-axis the number of occurrences in the dataset. \n",
    "\n",
    "Now let's count the number of men versus the number of women. Since the variable `'sex'` can (probably) only take on two values, we can start off without a visualisation. Execute the code below."
   ]
  },
  {
   "cell_type": "code",
   "execution_count": null,
   "metadata": {},
   "outputs": [],
   "source": [
    "data['sex'].value_counts()"
   ]
  },
  {
   "cell_type": "markdown",
   "metadata": {},
   "source": [
    "Here, we first select the column `sex` by calling `data['sex']` like we have seen before with `'embark_town'`. Then we apply the function `value_counts()` of which we know _counts_ the number of times a value occurs. \n",
    "\n",
    "#### Exercise 5.2.3\n",
    "So we have seen the town of embarkment, age and sex, but what about ticket class? Get the `value_counts()` for ticket class. If you are unsure about which column contains this data, don't hesitate to scroll up to where we explored the data with `data.head()`. Write your code below."
   ]
  },
  {
   "cell_type": "code",
   "execution_count": null,
   "metadata": {},
   "outputs": [],
   "source": [
    "# write your code here"
   ]
  },
  {
   "cell_type": "markdown",
   "metadata": {},
   "source": [
    "#### Exercise 5.2.4 \n",
    "Interesting! Let's visualise this as well. Apply `plot(kind='bar')` function to the code below. `kind='bar'` ensures the data is plotted as bars in stead of a line."
   ]
  },
  {
   "cell_type": "code",
   "execution_count": null,
   "metadata": {},
   "outputs": [],
   "source": [
    "# write your code here"
   ]
  },
  {
   "cell_type": "markdown",
   "metadata": {},
   "source": [
    "This shows us a simple visualisation of the class distribution in the data. Notice the Third class was the largest class by a mile. As you may remember from History lessons this was also the class with the most casualties. Let's see if this data backs this up!\n",
    "\n",
    "First check if we have any data on the survival of the passengers. Either scroll up to where we called `data.head`, write and execute it again below, or write `data.columns` in the cell below to view the column names of our data. Don't forget to execute. "
   ]
  },
  {
   "cell_type": "code",
   "execution_count": null,
   "metadata": {},
   "outputs": [],
   "source": [
    "# write your code here"
   ]
  },
  {
   "cell_type": "markdown",
   "metadata": {},
   "source": [
    "The column `'alive'` appears to have information on this. To find how many of a certain class survived, we have to _group_ the data first. Pandas has a function for this, of course. Exectute the code below to see how it works."
   ]
  },
  {
   "cell_type": "code",
   "execution_count": null,
   "metadata": {},
   "outputs": [],
   "source": [
    "data.groupby('class')['alive'].value_counts()"
   ]
  },
  {
   "cell_type": "markdown",
   "metadata": {},
   "source": [
    "Notice that it shows per class how many people survived. To give even more insight, we can normalise the result by applying the following to `value_counts()`. Execute the cell below to see how it works."
   ]
  },
  {
   "cell_type": "code",
   "execution_count": null,
   "metadata": {},
   "outputs": [],
   "source": [
    "data.groupby('class')['alive'].value_counts(normalize=True, sort=False)"
   ]
  },
  {
   "cell_type": "markdown",
   "metadata": {},
   "source": [
    "Here, we pass some extra settings to the function `value_counts()`: we want to `normalize` the data and not `sort` it, but keep it alphabetically for readability. This allows us to see that even though the number of people that survived the disaster who held a Third class ticket was larger than the number of people holding a Second class ticket, the normalised (on a scale of 0 to 1, i.e. a percentage) data paints a different picture. "
   ]
  },
  {
   "cell_type": "markdown",
   "metadata": {},
   "source": [
    "#### Exercise 5.2.5\n",
    "Apply this new knowledge to the distribution of men/women on the passenger list. Show the normalised (i.e. percentages) value counts for these two groups per class. What do you find?"
   ]
  },
  {
   "cell_type": "code",
   "execution_count": null,
   "metadata": {},
   "outputs": [],
   "source": [
    "# write your code here"
   ]
  },
  {
   "cell_type": "markdown",
   "metadata": {},
   "source": [
    "## 6. Beyond Pandas\n",
    "\n",
    "Now that you that you have gotten a feel for working with Pandas, this tutorial comes to an end. Both Python and Pandas provide a lot more functionality than we could ever cover in one notebook, but the most important basics have been covered. Do not hesitate to come back to this notebook sometime again to go over the code one more time. \n",
    "\n",
    "Next stop: Data Science!"
   ]
  }
 ],
 "metadata": {
  "kernelspec": {
   "display_name": "Python 3",
   "language": "python",
   "name": "python3"
  },
  "language_info": {
   "codemirror_mode": {
    "name": "ipython",
    "version": 3
   },
   "file_extension": ".py",
   "mimetype": "text/x-python",
   "name": "python",
   "nbconvert_exporter": "python",
   "pygments_lexer": "ipython3",
   "version": "3.6.5"
  }
 },
 "nbformat": 4,
 "nbformat_minor": 2
}
