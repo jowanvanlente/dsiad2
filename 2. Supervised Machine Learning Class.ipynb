{
 "cells": [
  {
   "cell_type": "markdown",
   "metadata": {},
   "source": [
    "# STEP 1-3\n",
    "\n",
    "Below you see a list of so-called \"libraries\". Python does not know a lot by itself. By importing the libraries, Python is able to do all sorts of things such as making a plot.\n"
   ]
  },
  {
   "cell_type": "code",
   "execution_count": null,
   "metadata": {},
   "outputs": [],
   "source": [
    "#Importing required libraries\n",
    "import pandas as pd\n",
    "import seaborn as sns\n",
    "import matplotlib.pyplot as plt\n",
    "from sklearn.ensemble import RandomForestClassifier\n",
    "from sklearn import tree\n",
    "from sklearn.metrics import confusion_matrix, classification_report\n",
    "from sklearn.preprocessing import StandardScaler, LabelEncoder\n",
    "from sklearn.model_selection import train_test_split\n",
    "from sklearn.linear_model import LogisticRegression\n",
    "from sklearn.model_selection import learning_curve\n",
    "import numpy as np\n",
    "from statsmodels.stats.outliers_influence import variance_inflation_factor\n",
    "from sklearn.feature_selection import VarianceThreshold\n",
    "import sklearn.metrics as metrics\n",
    "import matplotlib.pyplot as plt\n",
    "sns.set(rc={'figure.figsize':(12,6)})\n",
    "import warnings\n",
    "warnings.filterwarnings('ignore')\n",
    "\n",
    "import importlib\n",
    "import dsiad_functions\n",
    "importlib.reload(dsiad_functions)\n",
    "check = dsiad_functions.Check()\n",
    "\n",
    "\n",
    "#importing dataset\n",
    "wine = pd.read_csv(\"winequality-red_2.csv\") \n",
    "wine_copy = pd.read_csv(\"winequality-red_2.csv\") "
   ]
  },
  {
   "cell_type": "markdown",
   "metadata": {},
   "source": [
    "# STEP 4: Data exploration \n",
    "\n",
    "Look through the table `wine` and explore the variables. Remember that you can look at the dataset with the `.head()` function. If you use `.head(n=20)` you can see the first 20 variables. "
   ]
  },
  {
   "cell_type": "code",
   "execution_count": null,
   "metadata": {},
   "outputs": [],
   "source": [
    "wine.head()"
   ]
  },
  {
   "cell_type": "markdown",
   "metadata": {},
   "source": [
    "Look at the distribution of the dataset with `.describe()`. The function shows several summarizing values of the column, such as the mean of the column, the smallest value of the column (min) and the largest value (max). Pay attention to anything that stands out! "
   ]
  },
  {
   "cell_type": "code",
   "execution_count": null,
   "metadata": {},
   "outputs": [],
   "source": [
    "wine.describe()"
   ]
  },
  {
   "cell_type": "markdown",
   "metadata": {},
   "source": [
    "Look through the table of `wine` and fill out below the variables below. "
   ]
  },
  {
   "cell_type": "code",
   "execution_count": null,
   "metadata": {},
   "outputs": [],
   "source": [
    "number_of_observations = 1599\n",
    "mean_quality = 5.6\n",
    "minimum_alcohol = 0\n",
    "maximum_pH = 0\n",
    "\n",
    "check.step_4(number_of_observations, mean_quality, minimum_alcohol, maximum_pH)"
   ]
  },
  {
   "cell_type": "markdown",
   "metadata": {},
   "source": [
    "We want to predict the quality of wine, therefore `\"quality\"` is our target column. Before we are going to do any modelling, we first want to see the relationship between quality and the other columns. Are there any visible patterns? \n",
    "\n",
    "Let's explore the relationship between our target variable and the features. By the code below we plot quality with respect to alcohol with the help of `sns.barplot()`. `x` indicates the variable on the x-axis, `y` the y-axis. Change the `y` to other column names in order to explore the relationship with other features, e.g. `y = 'fixed acidity'` or `'citric acidity'`. Don't forget `''`!\n"
   ]
  },
  {
   "cell_type": "code",
   "execution_count": null,
   "metadata": {},
   "outputs": [],
   "source": [
    "sns.barplot(x = 'quality', y = 'fixed acidity', data = wine)"
   ]
  },
  {
   "cell_type": "markdown",
   "metadata": {},
   "source": [
    "# STEP 5: Feature engineering\n",
    "## 5.1 Dealing with missing data\n",
    "\n",
    "In the data exploration you could notice several missing values. Let's get an overview. The function `.isna()` stands for is not available. It returns all empty the empty cells. `.sum()` counts all these empty cells per column. "
   ]
  },
  {
   "cell_type": "code",
   "execution_count": null,
   "metadata": {},
   "outputs": [],
   "source": [
    "wine.isna().sum()"
   ]
  },
  {
   "cell_type": "markdown",
   "metadata": {},
   "source": [
    "The missing values are present in the price column. We want to get rid of the missing values. There are several ways to approach this. However, replacing the missing values by zeros is often not a good idea. Below, we demonstrate why. First we plot the distribution of the price column, without removing the not available values. We do this by using the `.hist()` function"
   ]
  },
  {
   "cell_type": "code",
   "execution_count": null,
   "metadata": {},
   "outputs": [],
   "source": [
    "wine[\"price\"].hist()"
   ]
  },
  {
   "cell_type": "markdown",
   "metadata": {},
   "source": [
    " `.fillna()` stands for fill not availables. It replaces the not available values by any number that we put between the brackets. Now, we'll make the mistake of replacing not available values by zeros. "
   ]
  },
  {
   "cell_type": "code",
   "execution_count": null,
   "metadata": {},
   "outputs": [],
   "source": [
    "wine[\"price\"].fillna(0).hist()"
   ]
  },
  {
   "cell_type": "markdown",
   "metadata": {},
   "source": [
    "As you can see, our distribution changed drastically. This will disturb the data and can potentially lead to the wrong conclusions. Other ways to deal with missing data is simply dropping the rows with missing values. However this leads to loss of valuable information. This is definitely not a good idea when there are many missing values. You will decrease the size of your dataset drastically.\n",
    "\n",
    "Another approach is replacing missing values by the mean of the column. We will do this for now. `.fillna()` stands for fill not availables. It replaces the not available values by any number that we put between the brackets. `.mean()` returns the column mean. "
   ]
  },
  {
   "cell_type": "code",
   "execution_count": null,
   "metadata": {},
   "outputs": [],
   "source": [
    "wine[\"price\"] = wine[\"price\"].fillna(wine[\"price\"].mean())\n",
    "\n",
    "wine[\"price\"].hist()"
   ]
  },
  {
   "cell_type": "markdown",
   "metadata": {},
   "source": [
    "#### Optional reading material: \n",
    "You can see that that the shape of the distribution stays relatively similar compared to the distribution with missing values. However, it should be noted that it could also lead to trouble, as it biases the data towards the mean. This mean might not apply to the real life situation. Therefore, it may lead to inaccurate model predictions. Other statistical approaches are available to deal with missing data, but we will keep it for now with the mean replacement! "
   ]
  },
  {
   "cell_type": "markdown",
   "metadata": {},
   "source": [
    "## 5.2 Making quality binary: good and bad quality\n",
    "\n",
    "We are going to divide the data into two bins: one with good wines and one with bad wines. We will use the quality grade to divide the data. Wines graded below 5.5 will be placed in the bad quality bin, wines graded above 5.5 will be placed in the good quality bin. This boundary is arbitrary. If you want to set a higher standard, replace the value \"5.5\" of the variable `bins`. \n",
    "\n",
    "The `pd.cut()` function replaces the values above 5.5 with `\"good\"` and the values below 5.5 with `\"bad\"`. "
   ]
  },
  {
   "cell_type": "code",
   "execution_count": null,
   "metadata": {},
   "outputs": [],
   "source": [
    "#Dividing wine as good and bad by giving the limit for the quality\n",
    "bins = (1, 5.5, 10)\n",
    "group_names = ['bad', 'good']\n",
    "wine['quality'] = pd.cut(wine['quality'], bins = bins, labels = group_names)"
   ]
  },
  {
   "cell_type": "markdown",
   "metadata": {},
   "source": [
    "We now look through our quality columns to see how many of the wines in our data set our considered good versus bad!"
   ]
  },
  {
   "cell_type": "code",
   "execution_count": null,
   "metadata": {},
   "outputs": [],
   "source": [
    "sns.histplot(wine['quality'])"
   ]
  },
  {
   "cell_type": "markdown",
   "metadata": {},
   "source": [
    "Our modelling algorithm only understand numbers, no words. Therefore we need to replace the labels \"good\" and \"bad\" by numbers. We set bad to 0 and good to 1. Therefore we use an inbuilt functionality of one of our libraries called `LabelEncoder()`.  The `LabelEncoder()` automatically replaces bad with 0 and good with 1."
   ]
  },
  {
   "cell_type": "code",
   "execution_count": null,
   "metadata": {},
   "outputs": [],
   "source": [
    "print(\"Here we see that the quality of the wine is described as good and bad\")\n",
    "wine['quality'].head()\n"
   ]
  },
  {
   "cell_type": "code",
   "execution_count": null,
   "metadata": {},
   "outputs": [],
   "source": [
    "# Now lets encode our quality variables (bad and good) to numbers (0 and 1)\n",
    "\n",
    "label_quality = LabelEncoder()\n",
    " \n",
    "wine['quality'] = label_quality.fit_transform(wine['quality'])\n",
    "\n",
    "print(\"Here we see that the quality of the wine is described as 0 and 1\")\n",
    "wine['quality'].head()"
   ]
  },
  {
   "cell_type": "markdown",
   "metadata": {},
   "source": [
    "# STEP 6: Feature selection"
   ]
  },
  {
   "cell_type": "markdown",
   "metadata": {},
   "source": [
    "## 6.1 Removing features by common sense \n",
    "\n",
    "Look again through the data table. Some features might be unnecessary. With common sense we can say that they do not influence the quality of wine. These colomns should be removed, as they provide no predictive information of quality for our model. Write down the column names below, with the following structure `[\"feature1\", \"feature2\", \"feature3\"]`\n",
    "\n",
    "\n",
    "Note that features sometimes are also called attributes or columns. "
   ]
  },
  {
   "cell_type": "code",
   "execution_count": null,
   "metadata": {},
   "outputs": [],
   "source": [
    "print(\"Here we see all the different features of the wine dataset: \")\n",
    "print(wine.columns)\n"
   ]
  },
  {
   "cell_type": "code",
   "execution_count": null,
   "metadata": {},
   "outputs": [],
   "source": [
    "unrelated_features = ['fill in features here..']\n",
    "\n",
    "# create a test dataset to ensure you don't throw away columns you wan't to keep\n",
    "wine_test = wine.copy()\n",
    "\n",
    "#this function ensures that the unrelated features are dropped \n",
    "wine_test = wine_test.drop(columns = unrelated_features, axis=1)\n"
   ]
  },
  {
   "cell_type": "markdown",
   "metadata": {},
   "source": [
    "Check the answer by running the line below! You do not have to put anything between the brackets. "
   ]
  },
  {
   "cell_type": "code",
   "execution_count": null,
   "metadata": {},
   "outputs": [],
   "source": [
    "check.step_61(wine_test, wine)"
   ]
  },
  {
   "cell_type": "markdown",
   "metadata": {},
   "source": [
    "## 6.2 Removing collinear features\n",
    "\n",
    "The plot `sns.heatmap()` below shows whether the variables of the columns of our dataset correlate, e.g. whether price corresponds with alcohol. The correlation varies between the 1 and -1. 0 means no correlation. 1 means perfect positive correlation and -1 perfect negative correlation. \n",
    "\n",
    "Lighter colours show a positive correlation, e.g. higher alcohol content might relate to a higher price. Dark colours show a negative correlation, e.g. higher alcohol content might relate to a lower price. Purple means no correlation, e.g. price and alcohol are unrelated. The values of the correlation are displayed by setting `annot` (annotation) to `True`. \n",
    "\n",
    "We use a copy of our dataset `wine_copy` that we made in the beginning. In our `wine` dataset we changed the quality values to 0 and 1. This affects the correlation. Therefore we look at the correlation before we made this change! "
   ]
  },
  {
   "cell_type": "code",
   "execution_count": null,
   "metadata": {
    "scrolled": true
   },
   "outputs": [],
   "source": [
    "# calculate the correlation between each column\n",
    "corr = wine_copy.corr()\n",
    "\n",
    "#round the correlation on with 2 numbers behind the comma\n",
    "corr = round(corr, 2)\n",
    "\n",
    "# plot the heatmap\n",
    "sns.heatmap(corr, xticklabels=wine_copy.columns, yticklabels=wine_copy.columns, annot=True, annot_kws = {\"size\" : 8 }, linewidths=.5)"
   ]
  },
  {
   "cell_type": "markdown",
   "metadata": {},
   "source": [
    "Which column is best to remove? "
   ]
  },
  {
   "cell_type": "code",
   "execution_count": null,
   "metadata": {},
   "outputs": [],
   "source": [
    "correlated_features = 'fill in correlated features here..'\t\n",
    "\n",
    "\n",
    "check.step_62(correlated_features)"
   ]
  },
  {
   "cell_type": "markdown",
   "metadata": {},
   "source": [
    "Remove by applying the `.drop()` function. "
   ]
  },
  {
   "cell_type": "code",
   "execution_count": null,
   "metadata": {},
   "outputs": [],
   "source": [
    "wine = wine.drop(columns = correlated_features, axis=1)"
   ]
  },
  {
   "cell_type": "markdown",
   "metadata": {},
   "source": [
    "## 6.3 Low variance filter \n",
    "\n",
    "Consider a variable in our dataset where all the observations have the same value, e.g. alcohol is always 15%. If we use this variable, do you think it can adds informations? The answer is no, because this variable has zero variance. A change in alcohol would not lead to a change in quality, because alcohol is a constant of 15%. To detect this, python can calculate the variance of each variable we are given. The function `.var()` shows the variance of each of the columns in the dataset."
   ]
  },
  {
   "cell_type": "code",
   "execution_count": null,
   "metadata": {},
   "outputs": [],
   "source": [
    "wine.var()"
   ]
  },
  {
   "cell_type": "markdown",
   "metadata": {},
   "source": [
    "We set a threshold, a point where we distinguish between high and low variance. We want to set the threshold close to zero, which means that the variable stays almost the same. Higher thresholds can be set, however, you will loose a lot of data that might have valuable information about your target variable."
   ]
  },
  {
   "cell_type": "code",
   "execution_count": null,
   "metadata": {},
   "outputs": [],
   "source": [
    "threshold = 0.005"
   ]
  },
  {
   "cell_type": "markdown",
   "metadata": {},
   "source": [
    "With the use of the `>`-statement you can check if the variance of the columns is higher that the threshold. "
   ]
  },
  {
   "cell_type": "code",
   "execution_count": null,
   "metadata": {},
   "outputs": [],
   "source": [
    "wine.var() > threshold"
   ]
  },
  {
   "cell_type": "markdown",
   "metadata": {},
   "source": [
    "Plug this statement into the `.loc[]` function below. It will return our dataset with only those columns that have a variance higher than our threshold. In other words: it will return only the columns that are `True` following the `>` statement. "
   ]
  },
  {
   "cell_type": "code",
   "execution_count": null,
   "metadata": {},
   "outputs": [],
   "source": [
    "#return all columns with variance higher than the threshold\n",
    "\n",
    "# fill in the boolean statement\n",
    "boolean_statement = ...\n",
    "wine = wine.loc[:, boolean_statement]"
   ]
  },
  {
   "cell_type": "markdown",
   "metadata": {},
   "source": [
    "Check the answer by running the line below! You do not have to put anything between the brackets. "
   ]
  },
  {
   "cell_type": "code",
   "execution_count": null,
   "metadata": {},
   "outputs": [],
   "source": [
    "check.step_63()"
   ]
  },
  {
   "cell_type": "markdown",
   "metadata": {},
   "source": [
    "# STEP 7: Modelling"
   ]
  },
  {
   "cell_type": "markdown",
   "metadata": {},
   "source": [
    "## 7.1 Target and feature setting\n",
    "\n",
    "Another preperation for the modelling is seperating your target and features and storing them to a `X` and `y` variable. Our target `y` is the binary value quality.The 0 represents bad quality and the 1 represents good quality wine. "
   ]
  },
  {
   "cell_type": "code",
   "execution_count": null,
   "metadata": {},
   "outputs": [],
   "source": [
    "y = wine['quality']\n",
    "\n",
    "y.head()"
   ]
  },
  {
   "cell_type": "markdown",
   "metadata": {},
   "source": [
    "Review the final features `X` for the model. "
   ]
  },
  {
   "cell_type": "code",
   "execution_count": null,
   "metadata": {},
   "outputs": [],
   "source": [
    "X = wine.drop(['quality'], axis = 1)\n",
    "\n",
    "X.head()"
   ]
  },
  {
   "cell_type": "markdown",
   "metadata": {},
   "source": [
    "## 7.2 Splitting test and train data\n",
    "\n",
    "In order to assess your model’s performance later, you will need to divide the dataset into two parts: a training set and a test set.\n",
    "\n",
    "The first is used to train the model, while the second is used to evaluate our trained model. In practice, the division of your data set into a test and a training sets is disjoint: the most common splitting choice is to take 70% of your original data set as the training set, while the 30% that remains will compose the test set.\n",
    "\n",
    "\n",
    "The function `train_test_split()` divides our feature data (`X`) in two parts and our target data (`y`) in two parts. \n",
    "'test_size' is set to 0.3, which means that 30% of our data go to the test set. You can change `test_size` to a different number to see the effect on the results later. `random_state` ensures that it will always return the same split of test and train set. We set it to 42, but it can be any number.  \n"
   ]
  },
  {
   "cell_type": "code",
   "execution_count": null,
   "metadata": {},
   "outputs": [],
   "source": [
    "X_train, X_test, y_train, y_test = train_test_split(X, y, test_size = 0.3, random_state = 42)"
   ]
  },
  {
   "cell_type": "markdown",
   "metadata": {},
   "source": [
    "## 7.3 Algorithms\n",
    "\n",
    "Finally, it is time for modelling! Usually the collection, exploration and preperation of the data, requires much more time then the modelling, as data is rarely perfect. We will be testing three different models: a decision tree, random forest and logistic regression. "
   ]
  },
  {
   "cell_type": "markdown",
   "metadata": {},
   "source": [
    "### Decision Tree\n",
    "\n",
    "First we define our model. We use `tree.DecisionTreeClassifier()`. Next we are going to use our training data `X_train` and `y_train` to fit our model parameters with `.fit()`. The training of the model parameters is not visible! A lot goes on in the background! \n",
    "\n",
    "<center>\n",
    "<img src=\"images/dec_tree.png\" width=\"300\"><br/>\n",
    "</center>"
   ]
  },
  {
   "cell_type": "code",
   "execution_count": null,
   "metadata": {},
   "outputs": [],
   "source": [
    "#Defining the model\n",
    "dtc = tree.DecisionTreeClassifier()\n",
    "\n",
    "#fit the model to our training data\n",
    "dtc.fit(X_train, y_train)"
   ]
  },
  {
   "cell_type": "markdown",
   "metadata": {},
   "source": [
    "Next, we are making predictions of our test set, based on our fitted model. Remember `dtc` is the value where our decision tree model is specified. We use the `.predict()` function and apply this to make predictions about our test set `X_test`."
   ]
  },
  {
   "cell_type": "code",
   "execution_count": null,
   "metadata": {},
   "outputs": [],
   "source": [
    "#Making prediction on the test set \n",
    "pred_dtc = dtc.predict(X_test)"
   ]
  },
  {
   "cell_type": "markdown",
   "metadata": {},
   "source": [
    "We will take the same steps for our 2 other models: random forest and logistic regression. "
   ]
  },
  {
   "cell_type": "markdown",
   "metadata": {},
   "source": [
    "### Random Forest\n",
    "\n",
    "<center>\n",
    "<img src=\"images/ran_for.png\" width=\"650\"><br/>\n",
    "</center>"
   ]
  },
  {
   "cell_type": "code",
   "execution_count": null,
   "metadata": {},
   "outputs": [],
   "source": [
    "#Defining the model\n",
    "rfc = RandomForestClassifier(n_estimators=200)\n",
    "\n",
    "#fit the model to our training data\n",
    "rfc.fit(X_train, y_train)"
   ]
  },
  {
   "cell_type": "code",
   "execution_count": null,
   "metadata": {},
   "outputs": [],
   "source": [
    "#Making prediction on the test set \n",
    "pred_rfc = rfc.predict(X_test)"
   ]
  },
  {
   "cell_type": "markdown",
   "metadata": {},
   "source": [
    "### Logistic Regression\n",
    "\n",
    "<center>\n",
    "<img src=\"images/log_reg.png\" width=\"650\"><br/>\n",
    "</center>"
   ]
  },
  {
   "cell_type": "code",
   "execution_count": null,
   "metadata": {},
   "outputs": [],
   "source": [
    "#Defining the model\n",
    "lrg = LogisticRegression()\n",
    "\n",
    "#fit the model to our training data\n",
    "lrg.fit(X_train, y_train)"
   ]
  },
  {
   "cell_type": "code",
   "execution_count": null,
   "metadata": {},
   "outputs": [],
   "source": [
    "#Making prediction on the test set \n",
    "pred_lrg = lrg.predict(X_test)"
   ]
  },
  {
   "cell_type": "markdown",
   "metadata": {},
   "source": [
    "# STEP 8: Evaluation\n"
   ]
  },
  {
   "cell_type": "markdown",
   "metadata": {},
   "source": [
    "## 8.1 Confusion matrix\n",
    "\n",
    "To evaluate the amount of mistakes made by the models, we are going to look at the confusion matrix. We use the `confusion_matrix()` function and create a table for the values. We add some names to the columns, to clarify the numbers. Look through the table and calculate the accuracy score. We do this by dividing the correct predictions by the total. \n",
    "\n",
    "### Decision tree"
   ]
  },
  {
   "cell_type": "code",
   "execution_count": null,
   "metadata": {},
   "outputs": [],
   "source": [
    "#Displaying the confusion matrix\n",
    "cm_dtc = pd.DataFrame(\n",
    "    confusion_matrix(y_test, pred_dtc), \n",
    "    index=['true: bad quality', 'true: good quality'], \n",
    "    columns=['prediction: bad quality', 'prediction: good quality']\n",
    ")\n",
    "\n",
    "cm_dtc"
   ]
  },
  {
   "cell_type": "code",
   "execution_count": null,
   "metadata": {},
   "outputs": [],
   "source": [
    "accuracy_dtc = \n",
    "\n",
    "check.step_81(y_test, pred_dtc, accuracy_dtc)"
   ]
  },
  {
   "cell_type": "markdown",
   "metadata": {},
   "source": [
    "### Random forest"
   ]
  },
  {
   "cell_type": "code",
   "execution_count": null,
   "metadata": {},
   "outputs": [],
   "source": [
    "#Displaying the confusion matrix\n",
    "cm_rfc = pd.DataFrame(\n",
    "    confusion_matrix(y_test, pred_rfc), \n",
    "    index=['true: bad quality', 'true: good quality'], \n",
    "    columns=['prediction: bad quality', 'prediction: good quality']\n",
    ")\n",
    "\n",
    "cm_rfc"
   ]
  },
  {
   "cell_type": "code",
   "execution_count": null,
   "metadata": {},
   "outputs": [],
   "source": [
    "accuracy_rfc = \n",
    "\n",
    "check.step_81(y_test, pred_rfc, accuracy_rfc)"
   ]
  },
  {
   "cell_type": "markdown",
   "metadata": {},
   "source": [
    "### Logistic regression"
   ]
  },
  {
   "cell_type": "code",
   "execution_count": null,
   "metadata": {},
   "outputs": [],
   "source": [
    "#Displaying the confusion matrix\n",
    "cm_lrg = pd.DataFrame(\n",
    "    confusion_matrix(y_test, pred_lrg), \n",
    "    index=['true: bad quality', 'true: good quality'], \n",
    "    columns=['prediction: bad quality', 'prediction: good quality']\n",
    ")\n",
    "\n",
    "cm_lrg"
   ]
  },
  {
   "cell_type": "code",
   "execution_count": null,
   "metadata": {},
   "outputs": [],
   "source": [
    "accuracy_lrg = \n",
    "\n",
    "check.step_81(y_test, pred_lrg, accuracy_lrg)"
   ]
  },
  {
   "cell_type": "markdown",
   "metadata": {},
   "source": [
    "## Storing our clean data\n",
    "We want to store our clean data set, so we can use it for the next module! This will ensure that we do not have to do our work twice! "
   ]
  },
  {
   "cell_type": "code",
   "execution_count": null,
   "metadata": {},
   "outputs": [],
   "source": [
    "wine.to_csv(\"winequality-red_3.csv\",index=False)"
   ]
  },
  {
   "cell_type": "markdown",
   "metadata": {},
   "source": []
  }
 ],
 "metadata": {
  "kernelspec": {
   "display_name": "Python 3",
   "language": "python",
   "name": "python3"
  },
  "language_info": {
   "codemirror_mode": {
    "name": "ipython",
    "version": 3
   },
   "file_extension": ".py",
   "mimetype": "text/x-python",
   "name": "python",
   "nbconvert_exporter": "python",
   "pygments_lexer": "ipython3",
   "version": "3.11.8"
  }
 },
 "nbformat": 4,
 "nbformat_minor": 2
}
